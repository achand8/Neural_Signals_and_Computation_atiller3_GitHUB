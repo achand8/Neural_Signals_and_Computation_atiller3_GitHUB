{
  "nbformat": 4,
  "nbformat_minor": 0,
  "metadata": {
    "colab": {
      "provenance": [],
      "include_colab_link": true
    },
    "kernelspec": {
      "name": "python3",
      "display_name": "Python 3"
    },
    "language_info": {
      "name": "python"
    }
  },
  "cells": [
    {
      "cell_type": "markdown",
      "metadata": {
        "id": "view-in-github",
        "colab_type": "text"
      },
      "source": [
        "<a href=\"https://colab.research.google.com/github/atille888/Neural_Signals_and_Computation_atiller3_GitHUB/blob/main/atiller3_main_exercise_1.ipynb\" target=\"_parent\"><img src=\"https://colab.research.google.com/assets/colab-badge.svg\" alt=\"Open In Colab\"/></a>"
      ]
    },
    {
      "cell_type": "markdown",
      "source": [
        "# Exercise 1  %(change to exercise number)\n",
        "### Name: Noga Mudrik %(change to yours)\n",
        "### JHID: nmudrik1  %(change to yours)\n",
        "### language: Python % (change if you solve by MATLAB)\n"
      ],
      "metadata": {
        "id": "XG3gJsK9RTnW"
      }
    },
    {
      "cell_type": "markdown",
      "source": [
        "# PROBLEM 1\n"
      ],
      "metadata": {
        "id": "2wqkMiUIR2lU"
      }
    },
    {
      "cell_type": "code",
      "source": [],
      "metadata": {
        "id": "7MQ3rcYLRTxN"
      },
      "execution_count": null,
      "outputs": []
    },
    {
      "cell_type": "markdown",
      "source": [
        "# PROBLEM 2\n"
      ],
      "metadata": {
        "id": "OaAU0aIvRT4Z"
      }
    },
    {
      "cell_type": "code",
      "source": [],
      "metadata": {
        "id": "iRU07hJDRUAH"
      },
      "execution_count": null,
      "outputs": []
    },
    {
      "cell_type": "markdown",
      "source": [
        "# PROBLEM 3"
      ],
      "metadata": {
        "id": "5fQZCIFwRUGQ"
      }
    },
    {
      "cell_type": "code",
      "source": [],
      "metadata": {
        "id": "1jRqiN71RUNJ"
      },
      "execution_count": null,
      "outputs": []
    },
    {
      "cell_type": "markdown",
      "source": [],
      "metadata": {
        "id": "SANxisIARUVk"
      }
    },
    {
      "cell_type": "code",
      "source": [],
      "metadata": {
        "id": "FhrlkaCTRUdo"
      },
      "execution_count": null,
      "outputs": []
    }
  ]
}